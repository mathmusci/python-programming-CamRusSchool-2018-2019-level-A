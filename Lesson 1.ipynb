{
 "cells": [
  {
   "cell_type": "markdown",
   "metadata": {},
   "source": [
    "# Урок первый"
   ]
  },
  {
   "cell_type": "markdown",
   "metadata": {},
   "source": [
    "* обсуждение того что такое программирование и алгоритмы\n",
    "* обсуждение методов сортировки построением ребят в ряд и выстраиванием по росту\n",
    "* собравшись возле одного компьютера и используя онлайн-интерпретатор мы ввели несколько команд и увидели как интерпретатор языка реагирует на эти команды; например, мы ввели следующее:\n",
    "\n",
    "```\n",
    ">>> print(\"Hello, world!\")\n",
    "Hello World!\n",
    ">>> print(\"Hello World! \" * 3)\n",
    "Hello World! Hello World! Hello World! \n",
    "```  "
   ]
  }
 ],
 "metadata": {
  "kernelspec": {
   "display_name": "Python 2",
   "language": "python",
   "name": "python2"
  },
  "language_info": {
   "codemirror_mode": {
    "name": "ipython",
    "version": 2
   },
   "file_extension": ".py",
   "mimetype": "text/x-python",
   "name": "python",
   "nbconvert_exporter": "python",
   "pygments_lexer": "ipython2",
   "version": "2.7.15"
  }
 },
 "nbformat": 4,
 "nbformat_minor": 2
}

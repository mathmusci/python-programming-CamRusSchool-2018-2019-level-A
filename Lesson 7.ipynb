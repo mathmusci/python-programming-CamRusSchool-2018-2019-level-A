{
 "cells": [
  {
   "cell_type": "markdown",
   "metadata": {},
   "source": [
    "# Урок седьмой"
   ]
  },
  {
   "cell_type": "markdown",
   "metadata": {},
   "source": [
    "## Генератор номеров лотерейных билетов\n",
    "\n",
    "Давайте представим себе, что в вашей школе проводят лотерею и для того, чтобы ее организовать, необходимо приготовить определенное количество билетов, некоторые из которых должны быть выигрышными. Вы понимаете, что эта задача может легко быть решена с помощью компьютера и ваших умений программировать на языке Python и вы предлагаете помощь организаторам лотереи.\n",
    "\n",
    "Итак, ваша задача в следующем. Необходимо сгенерировать номера `n` билетов, из которых `k` билетов должны быть выигрышными. Например, если `n` равно 10, a `k` равно 3, то наша програма должна выдать 10 номеров лотерейных билетов и указать какие три номера являются выигрышными:\n",
    "\n",
    "```\n",
    "Номера лотерейных билетов: 1, 2, 3, 4, 5, 6, 7, 8, 9, 10.\n",
    "Номера выигрышных билетов: 1, 7, 10.\n",
    "```\n",
    "\n",
    "Что нам необходимо для решения этой задачи? Мы уже умеем генерировать диапазон значений нужной длины (функции `range` и `list`). Осталось узнать как выбрать (случайным образом) `k` элементов из списка `n` элементов. Для этого мы можем воспользоваться модулем `random`. Этот модуль содержит функцию `sample`:\n",
    "\n",
    "```\n",
    ">>> from random import sample\n",
    ">>> help(sample)\n",
    "\n",
    "Help on method sample in module random:\n",
    "\n",
    "sample(self, population, k) method of random.Random instance\n",
    "    Chooses k unique random elements from a population sequence.\n",
    "    \n",
    "    Returns a new list containing elements from the population while\n",
    "    leaving the original population unchanged.  The resulting list is\n",
    "    in selection order so that all sub-slices will also be valid random\n",
    "    samples.  This allows raffle winners (the sample) to be partitioned\n",
    "    into grand prize and second place winners (the subslices).\n",
    "    ...\n",
    "```\n",
    "\n",
    "Вот пример использования функции `sample`:\n",
    "\n",
    "```\n",
    ">>> from random import sample\n",
    ">>> raffle_ticket_numbers = list(range(1,11))\n",
    ">>> raffle_ticket_numbers\n",
    "[1, 2, 3, 4, 5, 6, 7, 8, 9, 10]\n",
    ">>> sorted(sample(raffle_ticket_numbers, 3))\n",
    "[5, 6, 9]\n",
    "```\n",
    "\n",
    "**Упражнение 1.**\n",
    "Напишите программу, которая выполняет следующие действия:\n",
    "\n",
    "1. Запрашивает у пользователя количество лотерейных билетов для которых нужно сгенерировать номера, а также количество выигрышных билетов.\n",
    "2. Генерирует и выводит на экран номера всех лотерейных билетов, а также номера выигрышных билетов.\n",
    "\n",
    "Вспомните, какой функцией можно воспользоваться для того, чтобы запросить ввод данных пользователя?\n",
    "\n",
    "**Упражнение 2.**\n",
    "Представьте себе, что теперь наша задача не только в генерировании номеров лотерейных билетов, но также и в том, чтобы ввести информацию о том у кого из участников лотереи какой номер билета. Например, в лотерее с пятью участниками и тремя выигрышными билетами, наш процесс может выглядеть следующим образом:\n",
    "\n",
    "```\n",
    "Input the total number of raffle tickets: 5\n",
    "\n",
    "Input the number of winning tickets: 2\n",
    "\n",
    "Raffle ticket numers are as follows: 1, 2, 3, 4, 5\n",
    "\n",
    "Input the name of the participant who has drawn ticket number 1: Andrei Bejan\n",
    "Input the name of the participant who has drawn ticket number 2: Garry Ivanov\n",
    "Input the name of the participant who has drawn ticket number 3: Mathew King\n",
    "Input the name of the participant who has drawn ticket number 4: Anton Kopanitsa\n",
    "Input the name of the participant who has drawn ticket number 5: Marina Olefir\n",
    "\n",
    "LOTTERY RESULTS\n",
    "Winners are: Andrei Bejan (ticket number: 1), Mathew King (ticket number: 3) and Anton Kopanitsa (ticket number 4).\n",
    "```\n",
    "\n",
    "Напишите программу, которая выполняет такие действия.\n"
   ]
  },
  {
   "cell_type": "code",
   "execution_count": null,
   "metadata": {},
   "outputs": [],
   "source": []
  }
 ],
 "metadata": {
  "kernelspec": {
   "display_name": "Python 2",
   "language": "python",
   "name": "python2"
  },
  "language_info": {
   "codemirror_mode": {
    "name": "ipython",
    "version": 2
   },
   "file_extension": ".py",
   "mimetype": "text/x-python",
   "name": "python",
   "nbconvert_exporter": "python",
   "pygments_lexer": "ipython2",
   "version": "2.7.15"
  }
 },
 "nbformat": 4,
 "nbformat_minor": 2
}
